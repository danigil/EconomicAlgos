{
 "cells": [
  {
   "cell_type": "code",
   "execution_count": 1,
   "metadata": {},
   "outputs": [
    {
     "name": "stdout",
     "output_type": "stream",
     "text": [
      "[CandidateSet({0, 3})]\n",
      "[CandidateSet({0, 1, 2})]\n"
     ]
    }
   ],
   "source": [
    "from abcvoting.preferences import Profile\n",
    "from abcvoting import abcrules\n",
    "\n",
    "profile = Profile(num_cand=4)\n",
    "profile.add_voters(((0, 1), (0, 1, 3), (2, 3)))\n",
    "committees_k1 =abcrules.compute_equal_shares(profile, 2)\n",
    "committees_k2 =abcrules.compute_equal_shares(profile, 3)\n",
    "\n",
    "print(committees_k1)\n",
    "print(committees_k2)"
   ]
  }
 ],
 "metadata": {
  "kernelspec": {
   "display_name": "Python 3",
   "language": "python",
   "name": "python3"
  },
  "language_info": {
   "codemirror_mode": {
    "name": "ipython",
    "version": 3
   },
   "file_extension": ".py",
   "mimetype": "text/x-python",
   "name": "python",
   "nbconvert_exporter": "python",
   "pygments_lexer": "ipython3",
   "version": "3.9.7"
  }
 },
 "nbformat": 4,
 "nbformat_minor": 2
}
