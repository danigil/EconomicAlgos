{
 "cells": [
  {
   "cell_type": "markdown",
   "metadata": {},
   "source": [
    "# Brute Search"
   ]
  },
  {
   "cell_type": "code",
   "execution_count": 5,
   "metadata": {},
   "outputs": [],
   "source": [
    "from abcvoting.preferences import Profile\n",
    "from abcvoting import abcrules, properties\n",
    "from abcvoting.output import output, INFO\n",
    "from itertools import combinations, product\n",
    "\n",
    "def check_monotonicty_all_ks(profile, n, c):\n",
    "    def check_monotonicty(committees_k1, committees_k2):\n",
    "        assert len(committees_k1) == len(committees_k2) ==1\n",
    "        cs_1 = committees_k1[0]\n",
    "        cs_2 = committees_k2[0]\n",
    "        return cs_1 <= cs_2\n",
    "    rets = []\n",
    "    for k1 in range(1, c):\n",
    "        k2 = k1 + 1\n",
    "        committees_k1 =abcrules.compute_equal_shares(profile, k1)\n",
    "        committees_k2 =abcrules.compute_equal_shares(profile, k2)\n",
    "        flag = check_monotonicty(committees_k1, committees_k2)\n",
    "        if not flag:\n",
    "            rets.append((k1, k2, committees_k1[0], committees_k2[0]))\n",
    "    if len(rets) > 0:\n",
    "        return rets\n",
    "    else:\n",
    "        return None\n",
    "\n",
    "def find_non_monotone_example(n, c, vote_options):\n",
    "    \n",
    "    found = False\n",
    "    for votes in product(vote_options, repeat=n):\n",
    "        n_votes_per_candidate = [0] * c\n",
    "        for vote in votes:\n",
    "            for can in vote:\n",
    "                n_votes_per_candidate[can] += 1\n",
    "                \n",
    "        if(len(set(n_votes_per_candidate)) != c):\n",
    "            # print(n_votes_per_candidate)\n",
    "            continue\n",
    "        \n",
    "        profile = Profile(num_cand=c)\n",
    "        profile.add_voters(votes)\n",
    "        rets = check_monotonicty_all_ks(profile, n, c)\n",
    "        if rets is not None:\n",
    "            for ret in rets: \n",
    "                k1, k2, committees_k1, committees_k2 = ret\n",
    "                print(f'n: {n}, c: {c}')\n",
    "                print(f'votes: {votes}')\n",
    "                print(f'k1: {k1}, k2: {k2}')\n",
    "                print()\n",
    "                # print(f'committees_k1: {committees_k1}')\n",
    "                # print(f'committees_k2: {committees_k2}')\n",
    "                found = True\n",
    "            # break\n",
    "        \n",
    "    # if not found:\n",
    "    #     print(f'No non-monotone example found for n = {n}, c = {c}')\n",
    "\n",
    "# find_non_monotone_example(3, 4)\n",
    "for c in range(1, 7):\n",
    "    vote_options = set().union(*[set(combinations(range(c), i)) for i in range(1,c+1)])\n",
    "    # print(f'c: {c}')\n",
    "    for n in range(1, 5):\n",
    "        find_non_monotone_example(n, c, vote_options)\n"
   ]
  },
  {
   "cell_type": "code",
   "execution_count": null,
   "metadata": {},
   "outputs": [],
   "source": [
    "from typing import Iterable\n",
    "\n",
    "\n",
    "def mes(votes: Iterable[Iterable[int]], k: int):\n",
    "    votes = list(set(vote) for vote in votes)\n",
    "    \n",
    "    n_candidates = max(max(vote) for vote in votes) + 1\n",
    "    n_voters = len(votes)\n",
    "    assert set().union(*votes) == set(range(n_candidates))\n",
    "    assert 1 <= k <= n_candidates\n",
    "    \n",
    "    voters_per_candidate = [set()] * n_candidates\n",
    "    for i, vote in enumerate(votes):\n",
    "        for candidate in vote:\n",
    "            voters_per_candidate[candidate].add(i)\n",
    "    budgets = [k/n] * n_voters\n",
    "    candidate_prices = [1] * n_candidates\n",
    "    \n",
    "    remaining_candidates = set(range(n_candidates))\n",
    "    \n",
    "    def find_suitable_candidate():\n",
    "        suitable_candidates = set()\n",
    "        for candidate in remaining_candidates:\n",
    "            if candidate_prices[candidate] <= sum(budgets[voter] for voter in voters_per_candidate[candidate]):\n",
    "                suitable_candidates.add(candidate)\n",
    "        return None"
   ]
  },
  {
   "cell_type": "code",
   "execution_count": 10,
   "metadata": {},
   "outputs": [
    {
     "name": "stdout",
     "output_type": "stream",
     "text": [
      "[CandidateSet({0, 1})]\n",
      "[CandidateSet({0, 1, 2})]\n"
     ]
    }
   ],
   "source": [
    "from abcvoting.preferences import Profile\n",
    "from abcvoting import abcrules\n",
    "\n",
    "profile = Profile(num_cand=3)\n",
    "# profile.add_voters(((0, 1), (0, 1, 3), (2, 3)))\n",
    "profile.add_voters(((0,), (0,1), (0,1,2)))\n",
    "committees_k1 =abcrules.compute_equal_shares(profile, 2)\n",
    "committees_k2 =abcrules.compute_equal_shares(profile, 3)\n",
    "\n",
    "print(committees_k1)\n",
    "print(committees_k2)"
   ]
  },
  {
   "cell_type": "code",
   "execution_count": 2,
   "metadata": {},
   "outputs": [
    {
     "data": {
      "text/plain": [
       "array([2., 2., 2.])"
      ]
     },
     "execution_count": 2,
     "metadata": {},
     "output_type": "execute_result"
    }
   ],
   "source": [
    "import numpy as np\n",
    "\n",
    "m = np.ones((2,3))\n",
    "np.sum(m, axis=0)"
   ]
  },
  {
   "cell_type": "markdown",
   "metadata": {},
   "source": [
    "# Junk"
   ]
  },
  {
   "cell_type": "code",
   "execution_count": 5,
   "metadata": {},
   "outputs": [
    {
     "name": "stdout",
     "output_type": "stream",
     "text": [
      "k1: 3, k2: 4\n",
      "c_k1 <= c_k2: False\n",
      "committees_k1: {0, 1, 5}\n",
      "committees_k2: {0, 1, 2, 4}\n",
      "((0, 1, 3, 4), (0, 1, 4, 5), (1, 2, 5))\n"
     ]
    }
   ],
   "source": [
    "from abcvoting.preferences import Profile\n",
    "from abcvoting import abcrules, properties\n",
    "from abcvoting.output import output, INFO\n",
    "from itertools import combinations, product\n",
    "\n",
    "# def check_monotonicty(profile, committee, n, k):\n",
    "n=3\n",
    "c=6\n",
    "\n",
    "# a 0 b 1 c 2 d 3 e 4 f 5\n",
    "# profile.add_voters([{0,3,4}, {0,2}, {1,4}, {2,3,5}])\n",
    "# profile.add_voters([{0,1,2,3,4}]*51 + [{5,6,7,8,9}]*49)\n",
    "# profile.add_voters([{0,1}, {0,2}, {1,2}, {1}])\n",
    "def check_monotonicty_all_ks(profile, n, c):\n",
    "    def check_monotonicty(committees_k1, committees_k2):\n",
    "        assert len(committees_k1) == len(committees_k2) ==1\n",
    "        cs_1 = committees_k1[0]\n",
    "        cs_2 = committees_k2[0]\n",
    "        # print(cs_1)\n",
    "        # print(cs_2)\n",
    "        # assert cs_1 <= cs_2\n",
    "        return cs_1 <= cs_2\n",
    "    \n",
    "    for k1 in range(1, c):\n",
    "        # for k2 in range(k1+1, c+1):\n",
    "            # if k1 != k2:\n",
    "        k2 = k1 + 1\n",
    "        committees_k1 =abcrules.compute_equal_shares(profile, k1)\n",
    "        committees_k2 =abcrules.compute_equal_shares(profile, k2)\n",
    "        flag = check_monotonicty(committees_k1, committees_k2)\n",
    "        if not flag:\n",
    "            print(f'k1: {k1}, k2: {k2}')\n",
    "            print(f'c_k1 <= c_k2: {flag}')\n",
    "            print(f'committees_k1: {committees_k1[0]}')\n",
    "            print(f'committees_k2: {committees_k2[0]}')\n",
    "            return False\n",
    "    return True\n",
    "            # print(f'c_k1 <= c_k2: {check_monotonicty(committees_k1, committees_k2)}')\n",
    "            # check_monotonicty(committees_k1, committees_k2)\n",
    "s = set().union(*[set(combinations(range(c), i)) for i in range(1,c+1)])\n",
    "# print(s)\n",
    "for votes in product(s, repeat=n):\n",
    "    # print(votes)\n",
    "    profile = Profile(num_cand=c)\n",
    "    profile.add_voters(votes)\n",
    "    flag = check_monotonicty_all_ks(profile, n, 1, c)\n",
    "    if not flag:\n",
    "        print(votes)\n",
    "        break\n",
    "    # profile.clear()\n",
    "\n",
    "# check_monotonicty_all_ks(profile, 1,1, c)\n",
    "\n",
    "# k=2\n",
    "# committees_k1 =abcrules.compute_equal_shares(profile, 4)\n",
    "# # print(len(committees))\n",
    "\n",
    "# k=3 \n",
    "# committees_k2 =abcrules.compute_equal_shares(profile, k)\n",
    "\n",
    "\n",
    "    \n",
    "# check_monotonicty(committees_k1, committees_k2)\n",
    "# committees[0]\n",
    "# output.set_verbosity(INFO)\n",
    "# results = properties.full_analysis(profile, committees[0])"
   ]
  },
  {
   "cell_type": "markdown",
   "metadata": {},
   "source": [
    "# Results\n",
    "\n",
    "n: 3, c: 4  \n",
    "votes = ((0, 1), (0, 1, 3), (2, 3))  \n",
    "k1: 2, k2: 3  \n",
    "c_k1 <= c_k2: False  \n",
    "committees_k1: {0, 3}  \n",
    "committees_k2: {0, 1, 2}  \n",
    "\n",
    "n: 3, c: 6  \n",
    "votes = ((0, 1, 3, 4), (0, 1, 4, 5), (1, 2, 5))  \n",
    "k1: 3, k2: 4  \n",
    "c_k1 <= c_k2: False  \n",
    "committees_k1: {0, 1, 5}  \n",
    "committees_k2: {0, 1, 2, 4}  "
   ]
  },
  {
   "cell_type": "markdown",
   "metadata": {},
   "source": []
  }
 ],
 "metadata": {
  "kernelspec": {
   "display_name": "Python 3",
   "language": "python",
   "name": "python3"
  },
  "language_info": {
   "codemirror_mode": {
    "name": "ipython",
    "version": 3
   },
   "file_extension": ".py",
   "mimetype": "text/x-python",
   "name": "python",
   "nbconvert_exporter": "python",
   "pygments_lexer": "ipython3",
   "version": "3.9.7"
  }
 },
 "nbformat": 4,
 "nbformat_minor": 2
}
